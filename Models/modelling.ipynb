{
 "cells": [
  {
   "cell_type": "markdown",
   "metadata": {},
   "source": [
    "# EDA"
   ]
  },
  {
   "cell_type": "code",
   "execution_count": 9,
   "metadata": {
    "scrolled": true
   },
   "outputs": [
    {
     "data": {
      "text/html": [
       "<div>\n",
       "<style scoped>\n",
       "    .dataframe tbody tr th:only-of-type {\n",
       "        vertical-align: middle;\n",
       "    }\n",
       "\n",
       "    .dataframe tbody tr th {\n",
       "        vertical-align: top;\n",
       "    }\n",
       "\n",
       "    .dataframe thead th {\n",
       "        text-align: right;\n",
       "    }\n",
       "</style>\n",
       "<table border=\"1\" class=\"dataframe\">\n",
       "  <thead>\n",
       "    <tr style=\"text-align: right;\">\n",
       "      <th></th>\n",
       "      <th>OG</th>\n",
       "      <th>FG</th>\n",
       "      <th>ABV</th>\n",
       "      <th>SMR</th>\n",
       "      <th>pH</th>\n",
       "      <th>IBU</th>\n",
       "      <th>type</th>\n",
       "    </tr>\n",
       "  </thead>\n",
       "  <tbody>\n",
       "    <tr>\n",
       "      <th>0</th>\n",
       "      <td>1.062</td>\n",
       "      <td>1.013</td>\n",
       "      <td>6.5%</td>\n",
       "      <td>5.20</td>\n",
       "      <td>NaN</td>\n",
       "      <td>59.26</td>\n",
       "      <td>Specialty IPA: New England IPA</td>\n",
       "    </tr>\n",
       "    <tr>\n",
       "      <th>1</th>\n",
       "      <td>1.055</td>\n",
       "      <td>1.013</td>\n",
       "      <td>5.58%</td>\n",
       "      <td>8.00</td>\n",
       "      <td>5.67</td>\n",
       "      <td>39.79</td>\n",
       "      <td>American Pale Ale</td>\n",
       "    </tr>\n",
       "    <tr>\n",
       "      <th>2</th>\n",
       "      <td>1.055</td>\n",
       "      <td>1.013</td>\n",
       "      <td>5.48%</td>\n",
       "      <td>4.83</td>\n",
       "      <td>NaN</td>\n",
       "      <td>19.44</td>\n",
       "      <td>Cream Ale</td>\n",
       "    </tr>\n",
       "    <tr>\n",
       "      <th>3</th>\n",
       "      <td>1.061</td>\n",
       "      <td>1.016</td>\n",
       "      <td>5.94%</td>\n",
       "      <td>8.50</td>\n",
       "      <td>5.81</td>\n",
       "      <td>62.42</td>\n",
       "      <td>American IPA</td>\n",
       "    </tr>\n",
       "    <tr>\n",
       "      <th>4</th>\n",
       "      <td>1.072</td>\n",
       "      <td>1.018</td>\n",
       "      <td>7.09%</td>\n",
       "      <td>6.33</td>\n",
       "      <td>NaN</td>\n",
       "      <td>232.89</td>\n",
       "      <td>Imperial IPA</td>\n",
       "    </tr>\n",
       "  </tbody>\n",
       "</table>\n",
       "</div>"
      ],
      "text/plain": [
       "      OG     FG    ABV   SMR    pH     IBU                            type\n",
       "0  1.062  1.013   6.5%  5.20   NaN   59.26  Specialty IPA: New England IPA\n",
       "1  1.055  1.013  5.58%  8.00  5.67   39.79               American Pale Ale\n",
       "2  1.055  1.013  5.48%  4.83   NaN   19.44                       Cream Ale\n",
       "3  1.061  1.016  5.94%  8.50  5.81   62.42                    American IPA\n",
       "4  1.072  1.018  7.09%  6.33   NaN  232.89                    Imperial IPA"
      ]
     },
     "execution_count": 9,
     "metadata": {},
     "output_type": "execute_result"
    }
   ],
   "source": [
    "import pandas as pd\n",
    "import numpy as np\n",
    "from sklearn.preprocessing import OneHotEncoder, StandardScaler\n",
    "from sklearn.model_selection import train_test_split\n",
    "from sklearn.metrics import mean_absolute_error\n",
    "from sklearn.linear_model import Lasso\n",
    "import pickle\n",
    "\n",
    "beer = pd.read_csv(r\"C:\\Users\\kasci\\Documents\\scraped_data.csv\")\n",
    "beer.head()"
   ]
  },
  {
   "cell_type": "code",
   "execution_count": 10,
   "metadata": {},
   "outputs": [
    {
     "name": "stdout",
     "output_type": "stream",
     "text": [
      "<class 'pandas.core.frame.DataFrame'>\n",
      "RangeIndex: 1115 entries, 0 to 1114\n",
      "Data columns (total 7 columns):\n",
      " #   Column  Non-Null Count  Dtype  \n",
      "---  ------  --------------  -----  \n",
      " 0   OG      1115 non-null   object \n",
      " 1   FG      1115 non-null   object \n",
      " 2   ABV     1115 non-null   object \n",
      " 3   SMR     1115 non-null   float64\n",
      " 4   pH      119 non-null    float64\n",
      " 5   IBU     1115 non-null   float64\n",
      " 6   type    1103 non-null   object \n",
      "dtypes: float64(3), object(4)\n",
      "memory usage: 61.1+ KB\n"
     ]
    }
   ],
   "source": [
    "beer.info()"
   ]
  },
  {
   "cell_type": "code",
   "execution_count": 11,
   "metadata": {},
   "outputs": [
    {
     "data": {
      "text/html": [
       "<div>\n",
       "<style scoped>\n",
       "    .dataframe tbody tr th:only-of-type {\n",
       "        vertical-align: middle;\n",
       "    }\n",
       "\n",
       "    .dataframe tbody tr th {\n",
       "        vertical-align: top;\n",
       "    }\n",
       "\n",
       "    .dataframe thead th {\n",
       "        text-align: right;\n",
       "    }\n",
       "</style>\n",
       "<table border=\"1\" class=\"dataframe\">\n",
       "  <thead>\n",
       "    <tr style=\"text-align: right;\">\n",
       "      <th></th>\n",
       "      <th>OG</th>\n",
       "      <th>FG</th>\n",
       "      <th>ABV</th>\n",
       "      <th>SMR</th>\n",
       "      <th>IBU</th>\n",
       "      <th>type</th>\n",
       "    </tr>\n",
       "  </thead>\n",
       "  <tbody>\n",
       "    <tr>\n",
       "      <th>0</th>\n",
       "      <td>1.062</td>\n",
       "      <td>1.013</td>\n",
       "      <td>6.50</td>\n",
       "      <td>5.20</td>\n",
       "      <td>59.26</td>\n",
       "      <td>Specialty IPA: New England IPA</td>\n",
       "    </tr>\n",
       "    <tr>\n",
       "      <th>1</th>\n",
       "      <td>1.055</td>\n",
       "      <td>1.013</td>\n",
       "      <td>5.58</td>\n",
       "      <td>8.00</td>\n",
       "      <td>39.79</td>\n",
       "      <td>American Pale Ale</td>\n",
       "    </tr>\n",
       "    <tr>\n",
       "      <th>2</th>\n",
       "      <td>1.055</td>\n",
       "      <td>1.013</td>\n",
       "      <td>5.48</td>\n",
       "      <td>4.83</td>\n",
       "      <td>19.44</td>\n",
       "      <td>Cream Ale</td>\n",
       "    </tr>\n",
       "    <tr>\n",
       "      <th>3</th>\n",
       "      <td>1.061</td>\n",
       "      <td>1.016</td>\n",
       "      <td>5.94</td>\n",
       "      <td>8.50</td>\n",
       "      <td>62.42</td>\n",
       "      <td>American IPA</td>\n",
       "    </tr>\n",
       "    <tr>\n",
       "      <th>4</th>\n",
       "      <td>1.072</td>\n",
       "      <td>1.018</td>\n",
       "      <td>7.09</td>\n",
       "      <td>6.33</td>\n",
       "      <td>232.89</td>\n",
       "      <td>Imperial IPA</td>\n",
       "    </tr>\n",
       "  </tbody>\n",
       "</table>\n",
       "</div>"
      ],
      "text/plain": [
       "      OG     FG   ABV   SMR     IBU                            type\n",
       "0  1.062  1.013  6.50  5.20   59.26  Specialty IPA: New England IPA\n",
       "1  1.055  1.013  5.58  8.00   39.79               American Pale Ale\n",
       "2  1.055  1.013  5.48  4.83   19.44                       Cream Ale\n",
       "3  1.061  1.016  5.94  8.50   62.42                    American IPA\n",
       "4  1.072  1.018  7.09  6.33  232.89                    Imperial IPA"
      ]
     },
     "execution_count": 11,
     "metadata": {},
     "output_type": "execute_result"
    }
   ],
   "source": [
    "beer_clean = beer.drop(['pH'], axis=\"columns\")\n",
    "beer_clean = beer_clean.dropna()\n",
    "\n",
    "beer_clean['ABV'] = beer_clean['ABV'].str.replace(r'%', '')\n",
    "beer_clean['ABV'] = beer_clean['ABV'].astype(str).astype(float)\n",
    "\n",
    "beer_clean['OG'] = beer_clean['OG'].str.replace(r'°P', '')\n",
    "beer_clean['OG'] = beer_clean['OG'].astype(str).astype(float)\n",
    "\n",
    "beer_clean['FG'] = beer_clean['FG'].str.replace(r'°P', '')\n",
    "beer_clean['FG'] = beer_clean['FG'].astype(str).astype(float)\n",
    "\n",
    "beer_clean.head()                                       "
   ]
  },
  {
   "cell_type": "code",
   "execution_count": 12,
   "metadata": {
    "scrolled": false
   },
   "outputs": [
    {
     "data": {
      "text/html": [
       "<div>\n",
       "<style scoped>\n",
       "    .dataframe tbody tr th:only-of-type {\n",
       "        vertical-align: middle;\n",
       "    }\n",
       "\n",
       "    .dataframe tbody tr th {\n",
       "        vertical-align: top;\n",
       "    }\n",
       "\n",
       "    .dataframe thead th {\n",
       "        text-align: right;\n",
       "    }\n",
       "</style>\n",
       "<table border=\"1\" class=\"dataframe\">\n",
       "  <thead>\n",
       "    <tr style=\"text-align: right;\">\n",
       "      <th></th>\n",
       "      <th>OG</th>\n",
       "      <th>FG</th>\n",
       "      <th>ABV</th>\n",
       "      <th>SMR</th>\n",
       "      <th>IBU</th>\n",
       "    </tr>\n",
       "  </thead>\n",
       "  <tbody>\n",
       "    <tr>\n",
       "      <th>count</th>\n",
       "      <td>1103.000000</td>\n",
       "      <td>1103.000000</td>\n",
       "      <td>1103.000000</td>\n",
       "      <td>1103.000000</td>\n",
       "      <td>1103.000000</td>\n",
       "    </tr>\n",
       "    <tr>\n",
       "      <th>mean</th>\n",
       "      <td>1.291477</td>\n",
       "      <td>1.050285</td>\n",
       "      <td>6.240526</td>\n",
       "      <td>14.031859</td>\n",
       "      <td>42.407135</td>\n",
       "    </tr>\n",
       "    <tr>\n",
       "      <th>std</th>\n",
       "      <td>1.727110</td>\n",
       "      <td>0.297946</td>\n",
       "      <td>1.871511</td>\n",
       "      <td>13.033292</td>\n",
       "      <td>28.549315</td>\n",
       "    </tr>\n",
       "    <tr>\n",
       "      <th>min</th>\n",
       "      <td>1.005000</td>\n",
       "      <td>1.000000</td>\n",
       "      <td>0.490000</td>\n",
       "      <td>0.850000</td>\n",
       "      <td>0.000000</td>\n",
       "    </tr>\n",
       "    <tr>\n",
       "      <th>25%</th>\n",
       "      <td>1.050000</td>\n",
       "      <td>1.011000</td>\n",
       "      <td>5.035000</td>\n",
       "      <td>5.220000</td>\n",
       "      <td>23.650000</td>\n",
       "    </tr>\n",
       "    <tr>\n",
       "      <th>50%</th>\n",
       "      <td>1.059000</td>\n",
       "      <td>1.014000</td>\n",
       "      <td>5.820000</td>\n",
       "      <td>8.960000</td>\n",
       "      <td>35.640000</td>\n",
       "    </tr>\n",
       "    <tr>\n",
       "      <th>75%</th>\n",
       "      <td>1.070000</td>\n",
       "      <td>1.017000</td>\n",
       "      <td>7.010000</td>\n",
       "      <td>17.070000</td>\n",
       "      <td>55.795000</td>\n",
       "    </tr>\n",
       "    <tr>\n",
       "      <th>max</th>\n",
       "      <td>19.800000</td>\n",
       "      <td>5.700000</td>\n",
       "      <td>22.920000</td>\n",
       "      <td>85.250000</td>\n",
       "      <td>232.890000</td>\n",
       "    </tr>\n",
       "  </tbody>\n",
       "</table>\n",
       "</div>"
      ],
      "text/plain": [
       "                OG           FG          ABV          SMR          IBU\n",
       "count  1103.000000  1103.000000  1103.000000  1103.000000  1103.000000\n",
       "mean      1.291477     1.050285     6.240526    14.031859    42.407135\n",
       "std       1.727110     0.297946     1.871511    13.033292    28.549315\n",
       "min       1.005000     1.000000     0.490000     0.850000     0.000000\n",
       "25%       1.050000     1.011000     5.035000     5.220000    23.650000\n",
       "50%       1.059000     1.014000     5.820000     8.960000    35.640000\n",
       "75%       1.070000     1.017000     7.010000    17.070000    55.795000\n",
       "max      19.800000     5.700000    22.920000    85.250000   232.890000"
      ]
     },
     "execution_count": 12,
     "metadata": {},
     "output_type": "execute_result"
    }
   ],
   "source": [
    "beer_clean.describe()"
   ]
  },
  {
   "cell_type": "code",
   "execution_count": 13,
   "metadata": {},
   "outputs": [
    {
     "data": {
      "text/html": [
       "<div>\n",
       "<style scoped>\n",
       "    .dataframe tbody tr th:only-of-type {\n",
       "        vertical-align: middle;\n",
       "    }\n",
       "\n",
       "    .dataframe tbody tr th {\n",
       "        vertical-align: top;\n",
       "    }\n",
       "\n",
       "    .dataframe thead th {\n",
       "        text-align: right;\n",
       "    }\n",
       "</style>\n",
       "<table border=\"1\" class=\"dataframe\">\n",
       "  <thead>\n",
       "    <tr style=\"text-align: right;\">\n",
       "      <th></th>\n",
       "      <th>type</th>\n",
       "    </tr>\n",
       "  </thead>\n",
       "  <tbody>\n",
       "    <tr>\n",
       "      <th>American IPA</th>\n",
       "      <td>199</td>\n",
       "    </tr>\n",
       "    <tr>\n",
       "      <th>American Pale Ale</th>\n",
       "      <td>104</td>\n",
       "    </tr>\n",
       "    <tr>\n",
       "      <th>American Amber Ale</th>\n",
       "      <td>33</td>\n",
       "    </tr>\n",
       "    <tr>\n",
       "      <th>Imperial IPA</th>\n",
       "      <td>28</td>\n",
       "    </tr>\n",
       "    <tr>\n",
       "      <th>Saison</th>\n",
       "      <td>27</td>\n",
       "    </tr>\n",
       "  </tbody>\n",
       "</table>\n",
       "</div>"
      ],
      "text/plain": [
       "                    type\n",
       "American IPA         199\n",
       "American Pale Ale    104\n",
       "American Amber Ale    33\n",
       "Imperial IPA          28\n",
       "Saison                27"
      ]
     },
     "execution_count": 13,
     "metadata": {},
     "output_type": "execute_result"
    }
   ],
   "source": [
    "beer_clean['type'].value_counts().to_frame().head()"
   ]
  },
  {
   "cell_type": "code",
   "execution_count": 14,
   "metadata": {},
   "outputs": [
    {
     "name": "stdout",
     "output_type": "stream",
     "text": [
      "Total types:  127\n",
      " \n",
      "Top ten type:\n",
      "American IPA                      0.180417\n",
      "American Pale Ale                 0.094288\n",
      "American Amber Ale                0.029918\n",
      "Imperial IPA                      0.025385\n",
      "Saison                            0.024479\n",
      "Russian Imperial Stout            0.023572\n",
      "Weizen/Weissbier                  0.023572\n",
      "Irish Red Ale                     0.021759\n",
      "Robust Porter                     0.019039\n",
      "Specialty IPA: New England IPA    0.016319\n",
      "Name: type, dtype: float64\n"
     ]
    },
    {
     "data": {
      "text/html": [
       "<div>\n",
       "<style scoped>\n",
       "    .dataframe tbody tr th:only-of-type {\n",
       "        vertical-align: middle;\n",
       "    }\n",
       "\n",
       "    .dataframe tbody tr th {\n",
       "        vertical-align: top;\n",
       "    }\n",
       "\n",
       "    .dataframe thead th {\n",
       "        text-align: right;\n",
       "    }\n",
       "</style>\n",
       "<table border=\"1\" class=\"dataframe\">\n",
       "  <thead>\n",
       "    <tr style=\"text-align: right;\">\n",
       "      <th></th>\n",
       "      <th>OG</th>\n",
       "      <th>FG</th>\n",
       "      <th>ABV</th>\n",
       "      <th>SMR</th>\n",
       "      <th>IBU</th>\n",
       "    </tr>\n",
       "  </thead>\n",
       "  <tbody>\n",
       "    <tr>\n",
       "      <th>0</th>\n",
       "      <td>1.062</td>\n",
       "      <td>1.013</td>\n",
       "      <td>6.50</td>\n",
       "      <td>5.20</td>\n",
       "      <td>59.26</td>\n",
       "    </tr>\n",
       "    <tr>\n",
       "      <th>1</th>\n",
       "      <td>1.055</td>\n",
       "      <td>1.013</td>\n",
       "      <td>5.58</td>\n",
       "      <td>8.00</td>\n",
       "      <td>39.79</td>\n",
       "    </tr>\n",
       "    <tr>\n",
       "      <th>2</th>\n",
       "      <td>1.055</td>\n",
       "      <td>1.013</td>\n",
       "      <td>5.48</td>\n",
       "      <td>4.83</td>\n",
       "      <td>19.44</td>\n",
       "    </tr>\n",
       "    <tr>\n",
       "      <th>3</th>\n",
       "      <td>1.061</td>\n",
       "      <td>1.016</td>\n",
       "      <td>5.94</td>\n",
       "      <td>8.50</td>\n",
       "      <td>62.42</td>\n",
       "    </tr>\n",
       "    <tr>\n",
       "      <th>4</th>\n",
       "      <td>1.072</td>\n",
       "      <td>1.018</td>\n",
       "      <td>7.09</td>\n",
       "      <td>6.33</td>\n",
       "      <td>232.89</td>\n",
       "    </tr>\n",
       "  </tbody>\n",
       "</table>\n",
       "</div>"
      ],
      "text/plain": [
       "      OG     FG   ABV   SMR     IBU\n",
       "0  1.062  1.013  6.50  5.20   59.26\n",
       "1  1.055  1.013  5.58  8.00   39.79\n",
       "2  1.055  1.013  5.48  4.83   19.44\n",
       "3  1.061  1.016  5.94  8.50   62.42\n",
       "4  1.072  1.018  7.09  6.33  232.89"
      ]
     },
     "execution_count": 14,
     "metadata": {},
     "output_type": "execute_result"
    }
   ],
   "source": [
    "types_count = beer_clean['type'].value_counts() # Frequency of each class\n",
    "types = list(types_count.keys()) # Complete list of styles\n",
    "popularity = beer_clean['type'].value_counts(normalize = True) # Proportion of each class\n",
    "top_ten = popularity[:10] # Top ten most common styles\n",
    "top_ten_types = list(top_ten.keys()) # Class names\n",
    "\n",
    "# Print results\n",
    "print('Total types: ',len(types))\n",
    "print(\" \")\n",
    "print('Top ten type:')\n",
    "print(top_ten)\n",
    "beer_clean = beer_clean.drop(['type'], axis=\"columns\")\n",
    "beer_clean.head()"
   ]
  },
  {
   "cell_type": "markdown",
   "metadata": {},
   "source": [
    "# Encoding and training data"
   ]
  },
  {
   "cell_type": "code",
   "execution_count": 15,
   "metadata": {},
   "outputs": [
    {
     "data": {
      "text/plain": [
       "Lasso()"
      ]
     },
     "execution_count": 15,
     "metadata": {},
     "output_type": "execute_result"
    }
   ],
   "source": [
    "target = beer_clean['ABV']\n",
    "scaler = StandardScaler()\n",
    "scaled_numerical_data = scaler.fit_transform(beer_clean)\n",
    "X_train, X_test, y_train, y_test = train_test_split(scaled_numerical_data, target, test_size=0.3)\n",
    "reg = Lasso()\n",
    "reg.fit(X_train, y_train)"
   ]
  },
  {
   "cell_type": "markdown",
   "metadata": {},
   "source": [
    "# Evaluating the model"
   ]
  },
  {
   "cell_type": "code",
   "execution_count": 16,
   "metadata": {},
   "outputs": [
    {
     "name": "stdout",
     "output_type": "stream",
     "text": [
      "Model's R^2 score is: 0.7718010760880153\n",
      "Mean absolute error is: 0.5760797994067067\n"
     ]
    }
   ],
   "source": [
    "pred = reg.predict(X_test)\n",
    "print('Model\\'s R^2 score is:', reg.score(X_test, y_test))\n",
    "print('Mean absolute error is:', mean_absolute_error(y_test, pred))"
   ]
  },
  {
   "cell_type": "code",
   "execution_count": 17,
   "metadata": {},
   "outputs": [
    {
     "data": {
      "text/plain": [
       "array([5.60523283, 5.41475513, 6.08142709, 6.42005412, 5.32480732])"
      ]
     },
     "execution_count": 17,
     "metadata": {},
     "output_type": "execute_result"
    }
   ],
   "source": [
    "pred[:5]"
   ]
  },
  {
   "cell_type": "markdown",
   "metadata": {},
   "source": [
    "# Exporting the models"
   ]
  },
  {
   "cell_type": "code",
   "execution_count": 18,
   "metadata": {},
   "outputs": [],
   "source": [
    "with open(\"regression.pkl\", \"wb\") as reg_file:\n",
    "    pickle.dump(reg, reg_file)\n",
    "    \n",
    "with open(\"scaler.pkl\", \"wb\") as scaler_file:\n",
    "    pickle.dump(scaler, scaler_file)"
   ]
  },
  {
   "cell_type": "code",
   "execution_count": null,
   "metadata": {},
   "outputs": [],
   "source": []
  }
 ],
 "metadata": {
  "kernelspec": {
   "display_name": "Python 3",
   "language": "python",
   "name": "python3"
  },
  "language_info": {
   "codemirror_mode": {
    "name": "ipython",
    "version": 3
   },
   "file_extension": ".py",
   "mimetype": "text/x-python",
   "name": "python",
   "nbconvert_exporter": "python",
   "pygments_lexer": "ipython3",
   "version": "3.8.5"
  }
 },
 "nbformat": 4,
 "nbformat_minor": 4
}
